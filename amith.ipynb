{
  "nbformat": 4,
  "nbformat_minor": 0,
  "metadata": {
    "colab": {
      "provenance": []
    },
    "kernelspec": {
      "name": "python3",
      "display_name": "Python 3"
    },
    "language_info": {
      "name": "python"
    }
  },
  "cells": [
    {
      "cell_type": "code",
      "execution_count": 1,
      "metadata": {
        "colab": {
          "base_uri": "https://localhost:8080/"
        },
        "id": "z4OusOsD1Lg3",
        "outputId": "7ab1de37-624c-43ff-e558-b8ec519b985d"
      },
      "outputs": [
        {
          "output_type": "stream",
          "name": "stdout",
          "text": [
            "heloworld\n"
          ]
        }
      ],
      "source": [
        "print('heloworld')\n"
      ]
    },
    {
      "cell_type": "code",
      "source": [
        "print('1+2')\n"
      ],
      "metadata": {
        "id": "BwDSdhSw3F_5"
      },
      "execution_count": null,
      "outputs": []
    },
    {
      "cell_type": "code",
      "source": [
        "print(1+2)"
      ],
      "metadata": {
        "colab": {
          "base_uri": "https://localhost:8080/"
        },
        "id": "mQ6aW0yN3ZZ1",
        "outputId": "b5fce211-32d3-496f-a3f3-a97f5ff7c3bd"
      },
      "execution_count": 3,
      "outputs": [
        {
          "metadata": {
            "tags": null
          },
          "name": "stdout",
          "output_type": "stream",
          "text": [
            "3\n"
          ]
        }
      ]
    },
    {
      "cell_type": "code",
      "source": [
        "a=10\n",
        "b=20\n",
        "c=30\n",
        "print(a+b)"
      ],
      "metadata": {
        "colab": {
          "base_uri": "https://localhost:8080/"
        },
        "id": "pLLTQntx4D2T",
        "outputId": "8b5b5d74-f316-451a-87aa-0f09d951181c"
      },
      "execution_count": 5,
      "outputs": [
        {
          "output_type": "stream",
          "name": "stdout",
          "text": [
            "30\n"
          ]
        }
      ]
    },
    {
      "cell_type": "code",
      "source": [
        "a=10\n",
        "b=20\n",
        "c=30\n",
        "x=a+b\n",
        "y=a-b\n",
        "print(x)\n",
        "print(y)"
      ],
      "metadata": {
        "colab": {
          "base_uri": "https://localhost:8080/"
        },
        "id": "AGt6avKs4KPb",
        "outputId": "d059e71f-1606-493f-ed2b-7d50532aae68"
      },
      "execution_count": 13,
      "outputs": [
        {
          "output_type": "stream",
          "name": "stdout",
          "text": [
            "30\n",
            "-10\n"
          ]
        }
      ]
    },
    {
      "cell_type": "code",
      "source": [
        "a=10\n",
        "b=20\n",
        "c=30\n",
        "x=a+b\n",
        "y=a-b"
      ],
      "metadata": {
        "id": "Ia3D-Xb44dPb"
      },
      "execution_count": 11,
      "outputs": []
    },
    {
      "cell_type": "code",
      "source": [
        "#input\n",
        "a=1\n",
        "b=2\n",
        "#logic\n",
        "x=a+b\n",
        "y=a-b\n",
        "z=a*b\n",
        "p=a/b\n",
        "#outputstatement\n",
        "print(x)\n",
        "print(y)\n",
        "print(z)\n",
        "print(p)"
      ],
      "metadata": {
        "colab": {
          "base_uri": "https://localhost:8080/"
        },
        "id": "IYQbEWSI4zh1",
        "outputId": "80a9614f-28ab-4836-cb20-5f53e991fd26"
      },
      "execution_count": 14,
      "outputs": [
        {
          "output_type": "stream",
          "name": "stdout",
          "text": [
            "3\n",
            "-1\n",
            "2\n",
            "0.5\n"
          ]
        }
      ]
    },
    {
      "cell_type": "code",
      "source": [
        "#multiplicaton of 2 variable\n",
        "a=5\n",
        "b=20\n",
        "print(a*b)\n"
      ],
      "metadata": {
        "colab": {
          "base_uri": "https://localhost:8080/"
        },
        "id": "j9DIbiMX5eVr",
        "outputId": "37dd6027-eb76-42be-8684-a1dd8a19230e"
      },
      "execution_count": 15,
      "outputs": [
        {
          "output_type": "stream",
          "name": "stdout",
          "text": [
            "100\n"
          ]
        }
      ]
    },
    {
      "cell_type": "code",
      "source": [
        "#area of circle\n",
        "r=10\n",
        "res=3.14*r*r\n",
        "print(res)"
      ],
      "metadata": {
        "colab": {
          "base_uri": "https://localhost:8080/"
        },
        "id": "wfkhbnmn6K4O",
        "outputId": "4af633e7-e046-494f-8a14-3cdf7f8efad4"
      },
      "execution_count": 17,
      "outputs": [
        {
          "output_type": "stream",
          "name": "stdout",
          "text": [
            "314.0\n"
          ]
        }
      ]
    },
    {
      "cell_type": "code",
      "source": [
        "#area of circumfurence\n",
        "p=10\n",
        "t=12\n",
        "r=5\n",
        "print('percentage',p)\n",
        "print('time',t)\n",
        "print('rate',r)\n",
        "res=p*t*r/100\n",
        "print('result',res)"
      ],
      "metadata": {
        "colab": {
          "base_uri": "https://localhost:8080/"
        },
        "id": "4lCWQRbx63lQ",
        "outputId": "f01905bf-33e7-4634-fd0f-06585f1b5b00"
      },
      "execution_count": 18,
      "outputs": [
        {
          "output_type": "stream",
          "name": "stdout",
          "text": [
            "percentage 10\n",
            "time 12\n",
            "rate 5\n",
            "result 6.0\n"
          ]
        }
      ]
    },
    {
      "cell_type": "code",
      "source": [
        "#area of circumfurence\n",
        "p=1\n",
        "t=3\n",
        "r=2\n",
        "print('percentage',p)\n",
        "print('time',t)\n",
        "print('rate',r)\n",
        "res=p*t*r/100\n",
        "print('result',res)"
      ],
      "metadata": {
        "colab": {
          "base_uri": "https://localhost:8080/"
        },
        "id": "-YEh2qiy8AiE",
        "outputId": "2c18da36-f72e-4b78-e4ac-e9004aa484fb"
      },
      "execution_count": 20,
      "outputs": [
        {
          "output_type": "stream",
          "name": "stdout",
          "text": [
            "percentage 1\n",
            "time 3\n",
            "rate 2\n",
            "result 0.06\n"
          ]
        }
      ]
    },
    {
      "cell_type": "code",
      "source": [
        "#area of traingle\n",
        "#asking user input\n",
        "\n",
        "b=int(input(\"enter the height  \"))\n",
        "h=int(input(\"enter the breadth  \"))\n",
        "area=1/2*b*h\n",
        "print(area)\n"
      ],
      "metadata": {
        "colab": {
          "base_uri": "https://localhost:8080/"
        },
        "id": "TeSrhjNd8JBg",
        "outputId": "c7f8a3b9-42e9-4f22-f2ee-721cec1dc23a"
      },
      "execution_count": 32,
      "outputs": [
        {
          "output_type": "stream",
          "name": "stdout",
          "text": [
            "enter the height  5\n",
            "enter the breadth  3\n",
            "7.5\n"
          ]
        }
      ]
    },
    {
      "cell_type": "code",
      "source": [
        "#questant and reminder\n",
        "#Dividend=Divisor×Quotient+Remainder\n",
        "a=int(input(\"a value\"))\n",
        "b=int(input(\"b value\"))\n",
        "res1=a//b\n",
        "res=a%b\n",
        "print(res1,res)"
      ],
      "metadata": {
        "colab": {
          "base_uri": "https://localhost:8080/"
        },
        "id": "7GxeDA1DAHWo",
        "outputId": "7d81701e-fda8-4600-d30c-dcb8cd787b07"
      },
      "execution_count": 45,
      "outputs": [
        {
          "output_type": "stream",
          "name": "stdout",
          "text": [
            "a value5\n",
            "b value2\n",
            "2 1\n"
          ]
        }
      ]
    },
    {
      "cell_type": "code",
      "source": [
        "#how to calculate simple intrest using string function\n",
        "p=int(input(\"enter the amount deposited : \"))\n",
        "t=int(input(\"enter the time in year : \"))\n",
        "r=int(input(\"enter the rate in percentage : \"))\n",
        "si=p*t*r/100\n",
        "print(\"total intrest yopu earned\",si)\n",
        "print(\"total amount yopu get\",si+p)"
      ],
      "metadata": {
        "colab": {
          "base_uri": "https://localhost:8080/"
        },
        "id": "LBJrkO98D4MR",
        "outputId": "95f3130e-032a-4a27-ed04-fb4a48668759"
      },
      "execution_count": 47,
      "outputs": [
        {
          "output_type": "stream",
          "name": "stdout",
          "text": [
            "enter the amount deposited : 100000\n",
            "enter the time in year : 56\n",
            "enter the rate in percentage : 2305\n",
            "total intrest yopu earned 129080000.0\n",
            "total amount yopu get 129180000.0\n"
          ]
        }
      ]
    },
    {
      "cell_type": "code",
      "source": [
        "#if condition\n",
        "a=10\n",
        "b=25\n",
        "if a<b:\n",
        "  print(\"a < b\")\n",
        "else:\n",
        "  print(\"b > a\")\n"
      ],
      "metadata": {
        "colab": {
          "base_uri": "https://localhost:8080/"
        },
        "id": "4TB-d2vvHD2J",
        "outputId": "f932a5dd-35da-4682-dd9b-105d0969a9d6"
      },
      "execution_count": 60,
      "outputs": [
        {
          "output_type": "stream",
          "name": "stdout",
          "text": [
            "a < b\n"
          ]
        }
      ]
    },
    {
      "cell_type": "code",
      "source": [
        "name=input(\"enter your name :\")\n",
        "print(\"hello\",name,\"how are you today ?\")\n",
        "mood==input()\n",
        "if mood==\"good\":\n",
        "  print(\"thats great! have a nice day\")\n",
        "if mood==\"not well\":\n",
        "  print(\"why what happen?\")\n",
        "  inp=input()\n",
        "  if inp==\"feaver\":\n",
        "    print(\"take tablet\")"
      ],
      "metadata": {
        "colab": {
          "base_uri": "https://localhost:8080/",
          "height": 283
        },
        "id": "Hog36T-zItrT",
        "outputId": "daaa2923-c8b4-4b15-fbbb-dd9f4b1b974a"
      },
      "execution_count": 69,
      "outputs": [
        {
          "output_type": "stream",
          "name": "stdout",
          "text": [
            "enter your name :amith\n",
            "hello amith how are you today ?\n"
          ]
        },
        {
          "output_type": "error",
          "ename": "NameError",
          "evalue": "ignored",
          "traceback": [
            "\u001b[0;31m---------------------------------------------------------------------------\u001b[0m",
            "\u001b[0;31mNameError\u001b[0m                                 Traceback (most recent call last)",
            "\u001b[0;32m<ipython-input-69-f1bfaa3ab34c>\u001b[0m in \u001b[0;36m<cell line: 3>\u001b[0;34m()\u001b[0m\n\u001b[1;32m      1\u001b[0m \u001b[0mname\u001b[0m\u001b[0;34m=\u001b[0m\u001b[0minput\u001b[0m\u001b[0;34m(\u001b[0m\u001b[0;34m\"enter your name :\"\u001b[0m\u001b[0;34m)\u001b[0m\u001b[0;34m\u001b[0m\u001b[0;34m\u001b[0m\u001b[0m\n\u001b[1;32m      2\u001b[0m \u001b[0mprint\u001b[0m\u001b[0;34m(\u001b[0m\u001b[0;34m\"hello\"\u001b[0m\u001b[0;34m,\u001b[0m\u001b[0mname\u001b[0m\u001b[0;34m,\u001b[0m\u001b[0;34m\"how are you today ?\"\u001b[0m\u001b[0;34m)\u001b[0m\u001b[0;34m\u001b[0m\u001b[0;34m\u001b[0m\u001b[0m\n\u001b[0;32m----> 3\u001b[0;31m \u001b[0mmood\u001b[0m\u001b[0;34m==\u001b[0m\u001b[0minput\u001b[0m\u001b[0;34m(\u001b[0m\u001b[0;34m)\u001b[0m\u001b[0;34m\u001b[0m\u001b[0;34m\u001b[0m\u001b[0m\n\u001b[0m\u001b[1;32m      4\u001b[0m \u001b[0;32mif\u001b[0m \u001b[0mmood\u001b[0m\u001b[0;34m==\u001b[0m\u001b[0;34m\"good\"\u001b[0m\u001b[0;34m:\u001b[0m\u001b[0;34m\u001b[0m\u001b[0;34m\u001b[0m\u001b[0m\n\u001b[1;32m      5\u001b[0m   \u001b[0mprint\u001b[0m\u001b[0;34m(\u001b[0m\u001b[0;34m\"thats great! have a nice day\"\u001b[0m\u001b[0;34m)\u001b[0m\u001b[0;34m\u001b[0m\u001b[0;34m\u001b[0m\u001b[0m\n",
            "\u001b[0;31mNameError\u001b[0m: name 'mood' is not defined"
          ]
        }
      ]
    }
  ]
}